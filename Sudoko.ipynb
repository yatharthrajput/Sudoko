{
 "cells": [
  {
   "cell_type": "code",
   "execution_count": 14,
   "metadata": {},
   "outputs": [],
   "source": [
    "import numpy as np"
   ]
  },
  {
   "cell_type": "code",
   "execution_count": 15,
   "metadata": {},
   "outputs": [],
   "source": [
    "grid=[[5,3,0,0,7,0,0,0,0],\n",
    "     [6,0,0,1,9,5,0,0,0],\n",
    "      [0,9,8,0,0,0,0,6,0],\n",
    "      [8,0,0,0,6,0,0,0,3],\n",
    "      [4,0,0,8,0,3,0,0,1],\n",
    "      [7,0,0,0,2,0,0,0,6],\n",
    "      [0,6,0,0,0,0,2,8,0],\n",
    "      [0,0,0,4,1,9,0,0,5],\n",
    "      [0,0,0,0,8,0,0,7,9]\n",
    "     \n",
    "     ]"
   ]
  },
  {
   "cell_type": "code",
   "execution_count": 16,
   "metadata": {},
   "outputs": [
    {
     "name": "stdout",
     "output_type": "stream",
     "text": [
      "[[5, 3, 0, 0, 7, 0, 0, 0, 0], [6, 0, 0, 1, 9, 5, 0, 0, 0], [0, 9, 8, 0, 0, 0, 0, 6, 0], [8, 0, 0, 0, 6, 0, 0, 0, 3], [4, 0, 0, 8, 0, 3, 0, 0, 1], [7, 0, 0, 0, 2, 0, 0, 0, 6], [0, 6, 0, 0, 0, 0, 2, 8, 0], [0, 0, 0, 4, 1, 9, 0, 0, 5], [0, 0, 0, 0, 8, 0, 0, 7, 9]]\n"
     ]
    }
   ],
   "source": [
    "print(grid)"
   ]
  },
  {
   "cell_type": "code",
   "execution_count": 17,
   "metadata": {},
   "outputs": [
    {
     "name": "stdout",
     "output_type": "stream",
     "text": [
      "[[5 3 0 0 7 0 0 0 0]\n",
      " [6 0 0 1 9 5 0 0 0]\n",
      " [0 9 8 0 0 0 0 6 0]\n",
      " [8 0 0 0 6 0 0 0 3]\n",
      " [4 0 0 8 0 3 0 0 1]\n",
      " [7 0 0 0 2 0 0 0 6]\n",
      " [0 6 0 0 0 0 2 8 0]\n",
      " [0 0 0 4 1 9 0 0 5]\n",
      " [0 0 0 0 8 0 0 7 9]]\n"
     ]
    }
   ],
   "source": [
    "print(np.matrix(grid))"
   ]
  },
  {
   "cell_type": "code",
   "execution_count": 18,
   "metadata": {},
   "outputs": [
    {
     "data": {
      "text/plain": [
       "5"
      ]
     },
     "execution_count": 18,
     "metadata": {},
     "output_type": "execute_result"
    }
   ],
   "source": [
    "grid[0][0]"
   ]
  },
  {
   "cell_type": "code",
   "execution_count": 19,
   "metadata": {},
   "outputs": [],
   "source": [
    "def possible(y,x,n):\n",
    "    global grid\n",
    "    for i in range(0,9):\n",
    "        if grid[y][i]==n:\n",
    "            return False\n",
    "    for i in range(0,9):\n",
    "        if grid[y][i]==n:\n",
    "            return False\n",
    "    x0 = (x//3)*3\n",
    "    y0 = (y//3)*3\n",
    "    for i in range(0,3):\n",
    "        for j in range(0,3):\n",
    "            if grid[y0+i][x0+j]==n:\n",
    "                return False\n",
    "    return True"
   ]
  },
  {
   "cell_type": "code",
   "execution_count": 22,
   "metadata": {},
   "outputs": [
    {
     "data": {
      "text/plain": [
       "True"
      ]
     },
     "execution_count": 22,
     "metadata": {},
     "output_type": "execute_result"
    }
   ],
   "source": [
    "possible(1,4,3)"
   ]
  },
  {
   "cell_type": "code",
   "execution_count": 21,
   "metadata": {},
   "outputs": [
    {
     "data": {
      "text/plain": [
       "False"
      ]
     },
     "execution_count": 21,
     "metadata": {},
     "output_type": "execute_result"
    }
   ],
   "source": [
    "possible(3,1,3)"
   ]
  },
  {
   "cell_type": "code",
   "execution_count": 23,
   "metadata": {},
   "outputs": [],
   "source": [
    "def solve():\n",
    "    global grid\n",
    "    for y in range(9):\n",
    "        for x in range(9):\n",
    "            if grid[y][x]==0:\n",
    "                for n in range(1,10):\n",
    "                    if possible(y,x,n):\n",
    "                        grid[y][x]=n\n",
    "                        solve()\n",
    "                        grid[y][x]=0\n",
    "                return\n",
    "    print(np.matrix(grid))\n",
    "    input(\"More?\")\n",
    "    "
   ]
  },
  {
   "cell_type": "code",
   "execution_count": null,
   "metadata": {},
   "outputs": [
    {
     "name": "stdout",
     "output_type": "stream",
     "text": [
      "[[5 3 1 6 7 8 2 4 9]\n",
      " [6 2 4 1 9 5 3 7 8]\n",
      " [7 9 8 2 3 4 1 6 5]\n",
      " [8 1 2 4 6 5 7 9 3]\n",
      " [4 6 9 8 7 3 2 5 1]\n",
      " [7 3 5 1 2 9 4 8 6]\n",
      " [1 6 9 3 5 7 2 8 4]\n",
      " [2 7 8 4 1 9 3 6 5]\n",
      " [3 4 5 2 8 6 1 7 9]]\n",
      "More?\n",
      "[[5 3 1 6 7 8 2 4 9]\n",
      " [6 2 4 1 9 5 3 7 8]\n",
      " [7 9 8 2 3 4 1 6 5]\n",
      " [8 1 2 4 6 5 7 9 3]\n",
      " [4 6 9 8 7 3 2 5 1]\n",
      " [7 3 5 1 2 9 4 8 6]\n",
      " [1 6 9 3 5 7 2 8 4]\n",
      " [2 7 8 4 1 9 3 6 5]\n",
      " [3 4 5 6 8 2 1 7 9]]\n",
      "More?\n",
      "[[5 3 1 6 7 8 2 4 9]\n",
      " [6 2 4 1 9 5 3 7 8]\n",
      " [7 9 8 2 3 4 1 6 5]\n",
      " [8 1 2 4 6 5 7 9 3]\n",
      " [4 6 9 8 7 3 2 5 1]\n",
      " [7 3 5 1 2 9 4 8 6]\n",
      " [1 6 9 3 5 7 2 8 4]\n",
      " [2 7 8 4 1 9 3 6 5]\n",
      " [3 5 4 2 8 6 1 7 9]]\n",
      "More?\n",
      "[[5 3 1 6 7 8 2 4 9]\n",
      " [6 2 4 1 9 5 3 7 8]\n",
      " [7 9 8 2 3 4 1 6 5]\n",
      " [8 1 2 4 6 5 7 9 3]\n",
      " [4 6 9 8 7 3 2 5 1]\n",
      " [7 3 5 1 2 9 4 8 6]\n",
      " [1 6 9 3 5 7 2 8 4]\n",
      " [2 7 8 4 1 9 3 6 5]\n",
      " [3 5 4 6 8 2 1 7 9]]\n",
      "More?\n",
      "[[5 3 1 6 7 8 2 4 9]\n",
      " [6 2 4 1 9 5 3 7 8]\n",
      " [7 9 8 2 3 4 1 6 5]\n",
      " [8 1 2 4 6 5 7 9 3]\n",
      " [4 6 9 8 7 3 2 5 1]\n",
      " [7 3 5 1 2 9 4 8 6]\n",
      " [1 6 9 3 5 7 2 8 4]\n",
      " [2 7 8 4 1 9 3 6 5]\n",
      " [4 3 5 2 8 6 1 7 9]]\n",
      "More?\n",
      "[[5 3 1 6 7 8 2 4 9]\n",
      " [6 2 4 1 9 5 3 7 8]\n",
      " [7 9 8 2 3 4 1 6 5]\n",
      " [8 1 2 4 6 5 7 9 3]\n",
      " [4 6 9 8 7 3 2 5 1]\n",
      " [7 3 5 1 2 9 4 8 6]\n",
      " [1 6 9 3 5 7 2 8 4]\n",
      " [2 7 8 4 1 9 3 6 5]\n",
      " [4 3 5 6 8 2 1 7 9]]\n",
      "More?\n",
      "[[5 3 1 6 7 8 2 4 9]\n",
      " [6 2 4 1 9 5 3 7 8]\n",
      " [7 9 8 2 3 4 1 6 5]\n",
      " [8 1 2 4 6 5 7 9 3]\n",
      " [4 6 9 8 7 3 2 5 1]\n",
      " [7 3 5 1 2 9 4 8 6]\n",
      " [1 6 9 3 5 7 2 8 4]\n",
      " [2 7 8 4 1 9 3 6 5]\n",
      " [4 5 3 2 8 6 1 7 9]]\n",
      "More?\n",
      "[[5 3 1 6 7 8 2 4 9]\n",
      " [6 2 4 1 9 5 3 7 8]\n",
      " [7 9 8 2 3 4 1 6 5]\n",
      " [8 1 2 4 6 5 7 9 3]\n",
      " [4 6 9 8 7 3 2 5 1]\n",
      " [7 3 5 1 2 9 4 8 6]\n",
      " [1 6 9 3 5 7 2 8 4]\n",
      " [2 7 8 4 1 9 3 6 5]\n",
      " [4 5 3 6 8 2 1 7 9]]\n",
      "More?\n",
      "[[5 3 1 6 7 8 2 4 9]\n",
      " [6 2 4 1 9 5 3 7 8]\n",
      " [7 9 8 2 3 4 1 6 5]\n",
      " [8 1 2 4 6 5 7 9 3]\n",
      " [4 6 9 8 7 3 2 5 1]\n",
      " [7 3 5 1 2 9 4 8 6]\n",
      " [1 6 9 3 5 7 2 8 4]\n",
      " [2 7 8 4 1 9 3 6 5]\n",
      " [5 3 4 2 8 6 1 7 9]]\n",
      "More?\n",
      "[[5 3 1 6 7 8 2 4 9]\n",
      " [6 2 4 1 9 5 3 7 8]\n",
      " [7 9 8 2 3 4 1 6 5]\n",
      " [8 1 2 4 6 5 7 9 3]\n",
      " [4 6 9 8 7 3 2 5 1]\n",
      " [7 3 5 1 2 9 4 8 6]\n",
      " [1 6 9 3 5 7 2 8 4]\n",
      " [2 7 8 4 1 9 3 6 5]\n",
      " [5 3 4 6 8 2 1 7 9]]\n",
      "More?\n",
      "[[5 3 1 6 7 8 2 4 9]\n",
      " [6 2 4 1 9 5 3 7 8]\n",
      " [7 9 8 2 3 4 1 6 5]\n",
      " [8 1 2 4 6 5 7 9 3]\n",
      " [4 6 9 8 7 3 2 5 1]\n",
      " [7 3 5 1 2 9 4 8 6]\n",
      " [1 6 9 3 5 7 2 8 4]\n",
      " [2 7 8 4 1 9 3 6 5]\n",
      " [5 4 3 2 8 6 1 7 9]]\n",
      "More?\n",
      "[[5 3 1 6 7 8 2 4 9]\n",
      " [6 2 4 1 9 5 3 7 8]\n",
      " [7 9 8 2 3 4 1 6 5]\n",
      " [8 1 2 4 6 5 7 9 3]\n",
      " [4 6 9 8 7 3 2 5 1]\n",
      " [7 3 5 1 2 9 4 8 6]\n",
      " [1 6 9 3 5 7 2 8 4]\n",
      " [2 7 8 4 1 9 3 6 5]\n",
      " [5 4 3 6 8 2 1 7 9]]\n",
      "More?\n",
      "[[5 3 1 6 7 8 2 4 9]\n",
      " [6 2 4 1 9 5 3 7 8]\n",
      " [7 9 8 2 3 4 1 6 5]\n",
      " [8 1 2 4 6 5 7 9 3]\n",
      " [4 6 9 8 7 3 2 5 1]\n",
      " [7 3 5 1 2 9 4 8 6]\n",
      " [1 6 9 3 5 7 2 8 4]\n",
      " [2 7 8 4 1 9 6 3 5]\n",
      " [3 4 5 2 8 6 1 7 9]]\n",
      "More?\n",
      "[[5 3 1 6 7 8 2 4 9]\n",
      " [6 2 4 1 9 5 3 7 8]\n",
      " [7 9 8 2 3 4 1 6 5]\n",
      " [8 1 2 4 6 5 7 9 3]\n",
      " [4 6 9 8 7 3 2 5 1]\n",
      " [7 3 5 1 2 9 4 8 6]\n",
      " [1 6 9 3 5 7 2 8 4]\n",
      " [2 7 8 4 1 9 6 3 5]\n",
      " [3 4 5 6 8 2 1 7 9]]\n",
      "More?\n",
      "[[5 3 1 6 7 8 2 4 9]\n",
      " [6 2 4 1 9 5 3 7 8]\n",
      " [7 9 8 2 3 4 1 6 5]\n",
      " [8 1 2 4 6 5 7 9 3]\n",
      " [4 6 9 8 7 3 2 5 1]\n",
      " [7 3 5 1 2 9 4 8 6]\n",
      " [1 6 9 3 5 7 2 8 4]\n",
      " [2 7 8 4 1 9 6 3 5]\n",
      " [3 5 4 2 8 6 1 7 9]]\n",
      "More?\n",
      "More?\n",
      "[[5 3 1 6 7 8 2 4 9]\n",
      " [6 2 4 1 9 5 3 7 8]\n",
      " [7 9 8 2 3 4 1 6 5]\n",
      " [8 1 2 4 6 5 7 9 3]\n",
      " [4 6 9 8 7 3 2 5 1]\n",
      " [7 3 5 1 2 9 4 8 6]\n",
      " [1 6 9 3 5 7 2 8 4]\n",
      " [2 7 8 4 1 9 6 3 5]\n",
      " [3 5 4 6 8 2 1 7 9]]\n",
      "More?\n",
      "[[5 3 1 6 7 8 2 4 9]\n",
      " [6 2 4 1 9 5 3 7 8]\n",
      " [7 9 8 2 3 4 1 6 5]\n",
      " [8 1 2 4 6 5 7 9 3]\n",
      " [4 6 9 8 7 3 2 5 1]\n",
      " [7 3 5 1 2 9 4 8 6]\n",
      " [1 6 9 3 5 7 2 8 4]\n",
      " [2 7 8 4 1 9 6 3 5]\n",
      " [4 3 5 2 8 6 1 7 9]]\n",
      "[[5 3 1 6 7 8 2 4 9]\n",
      " [6 2 4 1 9 5 3 7 8]\n",
      " [7 9 8 2 3 4 1 6 5]\n",
      " [8 1 2 4 6 5 7 9 3]\n",
      " [4 6 9 8 7 3 2 5 1]\n",
      " [7 3 5 1 2 9 4 8 6]\n",
      " [1 6 9 3 5 7 2 8 4]\n",
      " [2 7 8 4 1 9 6 3 5]\n",
      " [4 3 5 6 8 2 1 7 9]]\n",
      "More?\n",
      "[[5 3 1 6 7 8 2 4 9]\n",
      " [6 2 4 1 9 5 3 7 8]\n",
      " [7 9 8 2 3 4 1 6 5]\n",
      " [8 1 2 4 6 5 7 9 3]\n",
      " [4 6 9 8 7 3 2 5 1]\n",
      " [7 3 5 1 2 9 4 8 6]\n",
      " [1 6 9 3 5 7 2 8 4]\n",
      " [2 7 8 4 1 9 6 3 5]\n",
      " [4 5 3 2 8 6 1 7 9]]\n",
      "More?\n",
      "[[5 3 1 6 7 8 2 4 9]\n",
      " [6 2 4 1 9 5 3 7 8]\n",
      " [7 9 8 2 3 4 1 6 5]\n",
      " [8 1 2 4 6 5 7 9 3]\n",
      " [4 6 9 8 7 3 2 5 1]\n",
      " [7 3 5 1 2 9 4 8 6]\n",
      " [1 6 9 3 5 7 2 8 4]\n",
      " [2 7 8 4 1 9 6 3 5]\n",
      " [4 5 3 6 8 2 1 7 9]]\n",
      "More?\n",
      "[[5 3 1 6 7 8 2 4 9]\n",
      " [6 2 4 1 9 5 3 7 8]\n",
      " [7 9 8 2 3 4 1 6 5]\n",
      " [8 1 2 4 6 5 7 9 3]\n",
      " [4 6 9 8 7 3 2 5 1]\n",
      " [7 3 5 1 2 9 4 8 6]\n",
      " [1 6 9 3 5 7 2 8 4]\n",
      " [2 7 8 4 1 9 6 3 5]\n",
      " [5 3 4 2 8 6 1 7 9]]\n",
      "More?\n",
      "[[5 3 1 6 7 8 2 4 9]\n",
      " [6 2 4 1 9 5 3 7 8]\n",
      " [7 9 8 2 3 4 1 6 5]\n",
      " [8 1 2 4 6 5 7 9 3]\n",
      " [4 6 9 8 7 3 2 5 1]\n",
      " [7 3 5 1 2 9 4 8 6]\n",
      " [1 6 9 3 5 7 2 8 4]\n",
      " [2 7 8 4 1 9 6 3 5]\n",
      " [5 3 4 6 8 2 1 7 9]]\n",
      "More?\n",
      "[[5 3 1 6 7 8 2 4 9]\n",
      " [6 2 4 1 9 5 3 7 8]\n",
      " [7 9 8 2 3 4 1 6 5]\n",
      " [8 1 2 4 6 5 7 9 3]\n",
      " [4 6 9 8 7 3 2 5 1]\n",
      " [7 3 5 1 2 9 4 8 6]\n",
      " [1 6 9 3 5 7 2 8 4]\n",
      " [2 7 8 4 1 9 6 3 5]\n",
      " [5 4 3 2 8 6 1 7 9]]\n",
      "More?\n",
      "[[5 3 1 6 7 8 2 4 9]\n",
      " [6 2 4 1 9 5 3 7 8]\n",
      " [7 9 8 2 3 4 1 6 5]\n",
      " [8 1 2 4 6 5 7 9 3]\n",
      " [4 6 9 8 7 3 2 5 1]\n",
      " [7 3 5 1 2 9 4 8 6]\n",
      " [1 6 9 3 5 7 2 8 4]\n",
      " [2 7 8 4 1 9 6 3 5]\n",
      " [5 4 3 6 8 2 1 7 9]]\n",
      "More?\n",
      "[[5 3 1 6 7 8 2 4 9]\n",
      " [6 2 4 1 9 5 3 7 8]\n",
      " [7 9 8 2 3 4 1 6 5]\n",
      " [8 1 2 4 6 5 7 9 3]\n",
      " [4 6 9 8 7 3 2 5 1]\n",
      " [7 3 5 1 2 9 4 8 6]\n",
      " [1 6 9 3 5 7 2 8 4]\n",
      " [2 8 7 4 1 9 3 6 5]\n",
      " [3 4 5 2 8 6 1 7 9]]\n",
      "More?\n",
      "[[5 3 1 6 7 8 2 4 9]\n",
      " [6 2 4 1 9 5 3 7 8]\n",
      " [7 9 8 2 3 4 1 6 5]\n",
      " [8 1 2 4 6 5 7 9 3]\n",
      " [4 6 9 8 7 3 2 5 1]\n",
      " [7 3 5 1 2 9 4 8 6]\n",
      " [1 6 9 3 5 7 2 8 4]\n",
      " [2 8 7 4 1 9 3 6 5]\n",
      " [3 4 5 6 8 2 1 7 9]]\n",
      "More?\n",
      "[[5 3 1 6 7 8 2 4 9]\n",
      " [6 2 4 1 9 5 3 7 8]\n",
      " [7 9 8 2 3 4 1 6 5]\n",
      " [8 1 2 4 6 5 7 9 3]\n",
      " [4 6 9 8 7 3 2 5 1]\n",
      " [7 3 5 1 2 9 4 8 6]\n",
      " [1 6 9 3 5 7 2 8 4]\n",
      " [2 8 7 4 1 9 3 6 5]\n",
      " [3 5 4 2 8 6 1 7 9]]\n",
      "More?\n",
      "[[5 3 1 6 7 8 2 4 9]\n",
      " [6 2 4 1 9 5 3 7 8]\n",
      " [7 9 8 2 3 4 1 6 5]\n",
      " [8 1 2 4 6 5 7 9 3]\n",
      " [4 6 9 8 7 3 2 5 1]\n",
      " [7 3 5 1 2 9 4 8 6]\n",
      " [1 6 9 3 5 7 2 8 4]\n",
      " [2 8 7 4 1 9 3 6 5]\n",
      " [3 5 4 6 8 2 1 7 9]]\n",
      "More?\n",
      "[[5 3 1 6 7 8 2 4 9]\n",
      " [6 2 4 1 9 5 3 7 8]\n",
      " [7 9 8 2 3 4 1 6 5]\n",
      " [8 1 2 4 6 5 7 9 3]\n",
      " [4 6 9 8 7 3 2 5 1]\n",
      " [7 3 5 1 2 9 4 8 6]\n",
      " [1 6 9 3 5 7 2 8 4]\n",
      " [2 8 7 4 1 9 3 6 5]\n",
      " [4 3 5 2 8 6 1 7 9]]\n",
      "More?\n",
      "[[5 3 1 6 7 8 2 4 9]\n",
      " [6 2 4 1 9 5 3 7 8]\n",
      " [7 9 8 2 3 4 1 6 5]\n",
      " [8 1 2 4 6 5 7 9 3]\n",
      " [4 6 9 8 7 3 2 5 1]\n",
      " [7 3 5 1 2 9 4 8 6]\n",
      " [1 6 9 3 5 7 2 8 4]\n",
      " [2 8 7 4 1 9 3 6 5]\n",
      " [4 3 5 6 8 2 1 7 9]]\n",
      "More?\n",
      "[[5 3 1 6 7 8 2 4 9]\n",
      " [6 2 4 1 9 5 3 7 8]\n",
      " [7 9 8 2 3 4 1 6 5]\n",
      " [8 1 2 4 6 5 7 9 3]\n",
      " [4 6 9 8 7 3 2 5 1]\n",
      " [7 3 5 1 2 9 4 8 6]\n",
      " [1 6 9 3 5 7 2 8 4]\n",
      " [2 8 7 4 1 9 3 6 5]\n",
      " [4 5 3 2 8 6 1 7 9]]\n",
      "More?\n",
      "[[5 3 1 6 7 8 2 4 9]\n",
      " [6 2 4 1 9 5 3 7 8]\n",
      " [7 9 8 2 3 4 1 6 5]\n",
      " [8 1 2 4 6 5 7 9 3]\n",
      " [4 6 9 8 7 3 2 5 1]\n",
      " [7 3 5 1 2 9 4 8 6]\n",
      " [1 6 9 3 5 7 2 8 4]\n",
      " [2 8 7 4 1 9 3 6 5]\n",
      " [4 5 3 6 8 2 1 7 9]]\n",
      "More?\n",
      "[[5 3 1 6 7 8 2 4 9]\n",
      " [6 2 4 1 9 5 3 7 8]\n",
      " [7 9 8 2 3 4 1 6 5]\n",
      " [8 1 2 4 6 5 7 9 3]\n",
      " [4 6 9 8 7 3 2 5 1]\n",
      " [7 3 5 1 2 9 4 8 6]\n",
      " [1 6 9 3 5 7 2 8 4]\n",
      " [2 8 7 4 1 9 3 6 5]\n",
      " [5 3 4 2 8 6 1 7 9]]\n",
      "More?\n",
      "[[5 3 1 6 7 8 2 4 9]\n",
      " [6 2 4 1 9 5 3 7 8]\n",
      " [7 9 8 2 3 4 1 6 5]\n",
      " [8 1 2 4 6 5 7 9 3]\n",
      " [4 6 9 8 7 3 2 5 1]\n",
      " [7 3 5 1 2 9 4 8 6]\n",
      " [1 6 9 3 5 7 2 8 4]\n",
      " [2 8 7 4 1 9 3 6 5]\n",
      " [5 3 4 6 8 2 1 7 9]]\n"
     ]
    }
   ],
   "source": [
    "solve()"
   ]
  },
  {
   "cell_type": "code",
   "execution_count": null,
   "metadata": {},
   "outputs": [],
   "source": [
    "\n",
    "\n",
    "\n",
    "\n",
    "\n",
    "\n",
    "\n",
    "\n",
    "\n",
    "\n",
    "\n",
    "\n",
    "\n",
    "\n",
    "\n",
    "\n",
    "\n",
    "\n",
    "\n",
    "\n",
    "\n",
    "\n",
    "\n",
    "\n",
    "\n",
    "\n",
    "\n",
    "\n",
    "\n",
    "\n",
    "\n",
    "\n",
    "\n",
    "\n",
    "\n",
    "\n",
    "\n",
    "\n",
    "\n",
    "\n",
    "\n",
    "\n",
    "\n",
    "\n",
    "\n",
    "\n",
    "\n",
    "\n",
    "\n",
    "\n",
    "\n",
    "\n",
    "\n",
    "\n",
    "\n",
    "\n",
    "\n",
    "\n",
    "\n",
    "\n",
    "\n",
    "\n"
   ]
  },
  {
   "cell_type": "code",
   "execution_count": null,
   "metadata": {},
   "outputs": [],
   "source": []
  },
  {
   "cell_type": "code",
   "execution_count": null,
   "metadata": {},
   "outputs": [],
   "source": []
  },
  {
   "cell_type": "code",
   "execution_count": null,
   "metadata": {},
   "outputs": [],
   "source": []
  },
  {
   "cell_type": "code",
   "execution_count": null,
   "metadata": {},
   "outputs": [],
   "source": []
  },
  {
   "cell_type": "code",
   "execution_count": null,
   "metadata": {},
   "outputs": [],
   "source": []
  },
  {
   "cell_type": "code",
   "execution_count": null,
   "metadata": {},
   "outputs": [],
   "source": []
  },
  {
   "cell_type": "code",
   "execution_count": null,
   "metadata": {},
   "outputs": [],
   "source": []
  },
  {
   "cell_type": "code",
   "execution_count": 1,
   "metadata": {},
   "outputs": [],
   "source": [
    "import random\n",
    "import time\n",
    "import numpy as np"
   ]
  },
  {
   "cell_type": "code",
   "execution_count": 3,
   "metadata": {},
   "outputs": [
    {
     "name": "stdout",
     "output_type": "stream",
     "text": [
      "Puzzle:\n",
      "\n",
      "| - - - - - - - - - - - |\n",
      "| . . . | . 8 . | 4 . 7 | \n",
      "| . . 8 | . . 4 | . . . | \n",
      "| . 7 . | 3 . 6 | . . . | \n",
      "| - - - + - - - + - - - |\n",
      "| . . . | . . . | . 4 2 | \n",
      "| 1 8 . | . 4 . | . 6 5 | \n",
      "| 7 9 . | . . . | . . . | \n",
      "| - - - + - - - + - - - |\n",
      "| . . . | 4 . 7 | . 1 . | \n",
      "| . . . | 5 . . | 8 . . | \n",
      "| 6 . 3 | . 1 . | . . . | \n",
      "| - - - - - - - - - - - |\n",
      "\n",
      "Solution :\n",
      "\n",
      "| - - - - - - - - - - - |\n",
      "| 3 6 1 | 9 8 5 | 4 2 7 | \n",
      "| 9 2 8 | 1 7 4 | 6 5 3 | \n",
      "| 4 7 5 | 3 2 6 | 1 9 8 | \n",
      "| - - - + - - - + - - - |\n",
      "| 5 3 6 | 8 9 1 | 7 4 2 | \n",
      "| 1 8 2 | 7 4 3 | 9 6 5 | \n",
      "| 7 9 4 | 6 5 2 | 3 8 1 | \n",
      "| - - - + - - - + - - - |\n",
      "| 8 5 9 | 4 3 7 | 2 1 6 | \n",
      "| 2 1 7 | 5 6 9 | 8 3 4 | \n",
      "| 6 4 3 | 2 1 8 | 5 7 9 | \n",
      "| - - - - - - - - - - - |\n",
      "\n",
      "(Time taken to solve: 1.1003093719482422 secs)\n"
     ]
    }
   ],
   "source": [
    "grid1=[[0,0,0,0,8,0,4,0,7],\n",
    "     [0,0,8,0,0,4,0,0,0],\n",
    "     [0,7,0,3,0,6,0,0,0],\n",
    "     [0,0,0,0,0,0,0,4,2],\n",
    "     [1,8,0,0,4,0,0,6,5],\n",
    "     [7,9,0,0,0,0,0,0,0],\n",
    "     [0,0,0,4,0,7,0,1,0],\n",
    "     [0,0,0,5,0,0,8,0,0],\n",
    "     [6,0,3,0,1,0,0,0,0]]\n",
    "puzzles=[['.','.','.','.',8,'.',4,'.',7],\n",
    "          ['.','.',8,'.','.',4,'.','.','.'],\n",
    "          ['.',7,'.',3,'.',6,'.','.','.'],\n",
    "          ['.','.','.','.','.','.','.',4,2],\n",
    "          [1,8,'.','.',4,'.','.',6,5],\n",
    "          [7,9,'.','.','.','.','.','.','.']\n",
    "          ,['.','.','.',4,'.',7,'.',1,'.'],\n",
    "          ['.','.','.',5,'.','.',8,'.','.'],\n",
    "          [6,'.',3,'.',1,'.','.','.','.']]\n",
    "\n",
    "\n",
    "def display_grid(li):\n",
    "    count=0\n",
    "    print(\"| - - - - - - - - - - - |\")\n",
    "    for i in li:\n",
    "        for j in i:\n",
    "            if(count == 0):\n",
    "                print(\"|\",end=\" \"),\n",
    "            print(j, end = \" \")\n",
    "            if(count in [2,5,8]):\n",
    "                print(\"|\",end=\" \"),\n",
    "            count+=1\n",
    "        print()\n",
    "        if li.index(i) in [2,5]:\n",
    "            print(\"| - - - + - - - + - - - |\")\n",
    "        elif li.index(i) == 8:\n",
    "            print(\"| - - - - - - - - - - - |\")\n",
    "        count=0\n",
    "\n",
    "def has_empty(arr,l):\n",
    "    for row in range(9):\n",
    "        for col in range(9):\n",
    "            if(arr[row][col]=='.'):\n",
    "                l[0]=row\n",
    "                l[1]=col\n",
    "                return True\n",
    "    return False\n",
    "\n",
    "def check_horizontal(arr,row,num):\n",
    "    for i in range(9):\n",
    "        if(arr[row][i] == num):\n",
    "            return False\n",
    "    return True\n",
    "\n",
    "def check_vertical(arr,col,num):\n",
    "    for i in range(9):\n",
    "        if(arr[i][col] == num):\n",
    "            return False\n",
    "    return True\n",
    "\n",
    "def check_group(arr,row,col,num):\n",
    "    row=row-row%3\n",
    "    col=col-col%3\n",
    "    for i in range(3):\n",
    "        for j in range(3):\n",
    "            if(arr[i+row][j+col] == num):\n",
    "                return False\n",
    "    return True\n",
    "\n",
    "def check_safe(arr,row,col,num):\n",
    "    if(check_horizontal(arr,row,num) and check_vertical(arr,col,num) and check_group(arr,row,col,num)):\n",
    "        return True\n",
    "    else:\n",
    "        return False\n",
    "\n",
    "def solve_puzzle(arr):\n",
    "    ind=[0,0]\n",
    "    if(not has_empty(arr,ind)):\n",
    "        return True\n",
    "    row=ind[0]\n",
    "    col=ind[1]\n",
    "    for num in range(1,10):\n",
    "        if(check_safe(arr,row,col,num)):\n",
    "            arr[row][col]=num\n",
    "            if(solve_puzzle(arr)):\n",
    "                return True\n",
    "            arr[row][col] = '.'\n",
    "    return False\n",
    "\n",
    "def possible(y,x,n):\n",
    "    global grid1\n",
    "    for i in range(0,9):\n",
    "        if grid1[y][i]==n:\n",
    "            return False\n",
    "    for i in range(0,9):\n",
    "        if grid1[y][i]==n:\n",
    "            return False\n",
    "    x0 = (x//3)*3\n",
    "    y0 = (y//3)*3\n",
    "    for i in range(0,3):\n",
    "        for j in range(0,3):\n",
    "            if grid1[y0+i][x0+j]==n:\n",
    "                return False\n",
    "    return True\n",
    "if __name__==\"__main__\":\n",
    "    grid=puzzles\n",
    "    print(\"Puzzle:\\n\")\n",
    "    display_grid(grid)\n",
    "    print(\"\\nSolution :\\n\")\n",
    "    start = time.time()\n",
    "    if(solve_puzzle(grid)):\n",
    "        display_grid(grid)\n",
    "        print(\"\\n(Time taken to solve: {} secs)\".format(time.time()-start))\n",
    "    else:\n",
    "        print (\"No solution exists\")"
   ]
  },
  {
   "cell_type": "code",
   "execution_count": 6,
   "metadata": {},
   "outputs": [
    {
     "data": {
      "text/plain": [
       "False"
      ]
     },
     "execution_count": 6,
     "metadata": {},
     "output_type": "execute_result"
    }
   ],
   "source": [
    "possible(0,1,7)"
   ]
  },
  {
   "cell_type": "code",
   "execution_count": 7,
   "metadata": {},
   "outputs": [
    {
     "data": {
      "text/plain": [
       "True"
      ]
     },
     "execution_count": 7,
     "metadata": {},
     "output_type": "execute_result"
    }
   ],
   "source": [
    "possible(0,0,3)"
   ]
  },
  {
   "cell_type": "code",
   "execution_count": 8,
   "metadata": {},
   "outputs": [
    {
     "data": {
      "text/plain": [
       "True"
      ]
     },
     "execution_count": 8,
     "metadata": {},
     "output_type": "execute_result"
    }
   ],
   "source": [
    "possible(0,1,6)"
   ]
  },
  {
   "cell_type": "code",
   "execution_count": 10,
   "metadata": {},
   "outputs": [
    {
     "data": {
      "text/plain": [
       "False"
      ]
     },
     "execution_count": 10,
     "metadata": {},
     "output_type": "execute_result"
    }
   ],
   "source": [
    "possible(0,1,8)"
   ]
  },
  {
   "cell_type": "code",
   "execution_count": null,
   "metadata": {},
   "outputs": [],
   "source": []
  },
  {
   "cell_type": "code",
   "execution_count": null,
   "metadata": {},
   "outputs": [],
   "source": []
  },
  {
   "cell_type": "code",
   "execution_count": null,
   "metadata": {},
   "outputs": [],
   "source": []
  },
  {
   "cell_type": "code",
   "execution_count": null,
   "metadata": {},
   "outputs": [],
   "source": []
  },
  {
   "cell_type": "code",
   "execution_count": null,
   "metadata": {},
   "outputs": [],
   "source": []
  },
  {
   "cell_type": "code",
   "execution_count": 8,
   "metadata": {},
   "outputs": [
    {
     "data": {
      "text/plain": [
       "matrix([[3, 1, 6, 5, 7, 8, 4, 9, 2],\n",
       "        [5, 2, 9, 1, 3, 4, 7, 6, 8],\n",
       "        [4, 8, 7, 6, 2, 9, 5, 3, 1],\n",
       "        [2, 6, 3, 4, 1, 5, 9, 8, 7],\n",
       "        [9, 7, 4, 8, 6, 3, 1, 2, 5],\n",
       "        [8, 5, 1, 7, 9, 2, 6, 4, 3],\n",
       "        [1, 3, 8, 9, 4, 7, 2, 5, 6],\n",
       "        [6, 9, 2, 3, 5, 1, 8, 7, 4],\n",
       "        [7, 4, 5, 2, 8, 6, 3, 1, 9]])"
      ]
     },
     "execution_count": 8,
     "metadata": {},
     "output_type": "execute_result"
    }
   ],
   "source": [
    "np.matrix(grid)"
   ]
  },
  {
   "cell_type": "code",
   "execution_count": 4,
   "metadata": {},
   "outputs": [
    {
     "data": {
      "text/plain": [
       "False"
      ]
     },
     "execution_count": 4,
     "metadata": {},
     "output_type": "execute_result"
    }
   ],
   "source": [
    "possible(0,1,1)"
   ]
  },
  {
   "cell_type": "code",
   "execution_count": 3,
   "metadata": {},
   "outputs": [
    {
     "data": {
      "text/plain": [
       "matrix([[0, 0, 0, 0, 8, 0, 4, 0, 7],\n",
       "        [0, 0, 8, 0, 0, 4, 0, 0, 0],\n",
       "        [0, 7, 0, 3, 0, 6, 0, 0, 0],\n",
       "        [0, 0, 0, 0, 0, 0, 0, 4, 2],\n",
       "        [1, 8, 0, 0, 4, 0, 0, 6, 5],\n",
       "        [7, 9, 0, 0, 0, 0, 0, 0, 0],\n",
       "        [0, 0, 0, 4, 0, 7, 0, 1, 0],\n",
       "        [0, 0, 0, 5, 0, 0, 8, 0, 0],\n",
       "        [6, 0, 3, 0, 1, 0, 0, 0, 0]])"
      ]
     },
     "execution_count": 3,
     "metadata": {},
     "output_type": "execute_result"
    }
   ],
   "source": [
    "grid=[[0,0,0,0,8,0,4,0,7],\n",
    "     [0,0,8,0,0,4,0,0,0],\n",
    "     [0,7,0,3,0,6,0,0,0],\n",
    "     [0,0,0,0,0,0,0,4,2],\n",
    "     [1,8,0,0,4,0,0,6,5],\n",
    "     [7,9,0,0,0,0,0,0,0],\n",
    "     [0,0,0,4,0,7,0,1,0],\n",
    "     [0,0,0,5,0,0,8,0,0],\n",
    "     [6,0,3,0,1,0,0,0,0]]\n",
    "np.matrix(grid)"
   ]
  },
  {
   "cell_type": "code",
   "execution_count": null,
   "metadata": {},
   "outputs": [],
   "source": []
  }
 ],
 "metadata": {
  "kernelspec": {
   "display_name": "Python 3",
   "language": "python",
   "name": "python3"
  },
  "language_info": {
   "codemirror_mode": {
    "name": "ipython",
    "version": 3
   },
   "file_extension": ".py",
   "mimetype": "text/x-python",
   "name": "python",
   "nbconvert_exporter": "python",
   "pygments_lexer": "ipython3",
   "version": "3.7.0"
  }
 },
 "nbformat": 4,
 "nbformat_minor": 2
}
